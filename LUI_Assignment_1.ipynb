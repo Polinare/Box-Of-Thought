{
 "cells": [
  {
   "cell_type": "markdown",
   "metadata": {},
   "source": [
    "# ITMGT 25.03 EE\n",
    "### Assignment 1\n",
    "\n",
    "These exercises are designed to strengthen your grasp on basic programming concepts. Read what is required of you carefully.\n",
    "\n",
    "This assignment is only over 10 points, but there are 15 points available to earn from answering the questions. It will be credited to Class Participation, which will be over 200 for the entire semester.\n",
    "\n",
    "Rename the file to:\n",
    "\n",
    "Lastname_Assignment_1.ipynb\n",
    "\n",
    "Send to my email account: joben.ilagan@gmail.com. \n",
    "Attach the file or create a Dropbox link. \n",
    "The deadline is Tuesday, 18 June 2019, 12:00 nn.\n",
    "\n",
    "You may earn another 2 bonus points for figuring out GitHub and linking me to your repository in your email. (This brings the absolute maximum possible grade for this assignment to 17/10.)"
   ]
  },
  {
   "cell_type": "markdown",
   "metadata": {},
   "source": [
    "# 1\n",
    "### 1 point\n",
    "\n",
    "Write a function that takes the circumference of a circle as a parameter and **returns** the area of that circle."
   ]
  },
  {
   "cell_type": "code",
   "execution_count": 1,
   "metadata": {},
   "outputs": [
    {
     "data": {
      "text/plain": [
       "3.141592653589793"
      ]
     },
     "execution_count": 1,
     "metadata": {},
     "output_type": "execute_result"
    }
   ],
   "source": [
    "# A necessary process in order to make math.pi functional throughout the notebook.\n",
    "# Referenced in the Final Answer Cell of number 1.\n",
    "\n",
    "import math\n",
    "math.pi"
   ]
  },
  {
   "cell_type": "code",
   "execution_count": 3,
   "metadata": {},
   "outputs": [
    {
     "data": {
      "text/plain": [
       "314.1592653589793"
      ]
     },
     "execution_count": 3,
     "metadata": {},
     "output_type": "execute_result"
    }
   ],
   "source": [
    "# Scratch cell to cross reference Final Answer function.\n",
    "\n",
    "def Area(Radius):\n",
    "    return math.pi*(Radius**2)\n",
    "\n",
    "Area(10)"
   ]
  },
  {
   "cell_type": "code",
   "execution_count": 5,
   "metadata": {},
   "outputs": [
    {
     "data": {
      "text/plain": [
       "62.83185307179586"
      ]
     },
     "execution_count": 5,
     "metadata": {},
     "output_type": "execute_result"
    }
   ],
   "source": [
    "# Scratch cell to cross reference Final Answer \n",
    "# Also the matter of input in order to result with the same Area on the cell above. \n",
    "\n",
    "def Circumference(Radius):\n",
    "    return 2*math.pi*Radius\n",
    "\n",
    "Circumference(10)"
   ]
  },
  {
   "cell_type": "code",
   "execution_count": 6,
   "metadata": {},
   "outputs": [
    {
     "data": {
      "text/plain": [
       "314.15926464102074"
      ]
     },
     "execution_count": 6,
     "metadata": {},
     "output_type": "execute_result"
    }
   ],
   "source": [
    "# The Functions of Area and Circumference above is used as a basis of reference proving the Radius Value True all througout.\n",
    "# Final Answer.\n",
    "\n",
    "def CircumferenceToArea(Circumference):\n",
    "    Radius = Circumference/math.pi/2\n",
    "    Area = math.pi*(Radius**2)\n",
    "    return Area\n",
    "\n",
    "CircumferenceToArea(62.831853)"
   ]
  },
  {
   "cell_type": "markdown",
   "metadata": {},
   "source": [
    "# 2\n",
    "### 2 points\n",
    "\n",
    "Write a function that takes a 5-character string as a parameter and **returns** the string in reverse order.\n",
    "\n",
    "e.g. reverseString(\"Hello\") -> \"olleH\""
   ]
  },
  {
   "cell_type": "code",
   "execution_count": 13,
   "metadata": {},
   "outputs": [
    {
     "name": "stdout",
     "output_type": "stream",
     "text": [
      "olleH\n"
     ]
    }
   ],
   "source": [
    "# Scratch Cell \n",
    "\n",
    "Jay = \"Hello\"\n",
    "\n",
    "print(Jay[4]+Jay[3]+Jay[2]+Jay[1]+Jay[0])"
   ]
  },
  {
   "cell_type": "code",
   "execution_count": 28,
   "metadata": {},
   "outputs": [
    {
     "data": {
      "text/plain": [
       "'olleH'"
      ]
     },
     "execution_count": 28,
     "metadata": {},
     "output_type": "execute_result"
    }
   ],
   "source": [
    "# Final Answer Cell\n",
    "\n",
    "def ReverseString(x):\n",
    "        return x[4]+x[3]+x[2]+x[1]+x[0]\n",
    "\n",
    "ReverseString(\"Hello\")\n"
   ]
  },
  {
   "cell_type": "code",
   "execution_count": 26,
   "metadata": {},
   "outputs": [
    {
     "data": {
      "text/plain": [
       "'olleH'"
      ]
     },
     "execution_count": 26,
     "metadata": {},
     "output_type": "execute_result"
    }
   ],
   "source": [
    "# This is a function found on the Internet, also used as a marker for checking if the answer will yield right. \n",
    "\n",
    "def ReverseString(x):\n",
    "    return x[::-1]\n",
    "\n",
    "ReverseString(\"Hello\")"
   ]
  },
  {
   "cell_type": "markdown",
   "metadata": {},
   "source": [
    "# 3\n",
    "### 2 points\n",
    "\n",
    "Write a function that takes a positive integer as input and **returns** the sum of all positive integers smaller than and including the number itself.\n",
    "\n",
    "e.g. backAddition(5) -> 1 + 2 + 3 + 4 + 5 -> 15"
   ]
  },
  {
   "cell_type": "code",
   "execution_count": 27,
   "metadata": {},
   "outputs": [
    {
     "data": {
      "text/plain": [
       "125250"
      ]
     },
     "execution_count": 27,
     "metadata": {},
     "output_type": "execute_result"
    }
   ],
   "source": [
    "# Final Answer Cell\n",
    "\n",
    "def SumOfSetNumbers(x):\n",
    "    Sum = sum(range(1,x + 1,1))\n",
    "    return Sum\n",
    "    \n",
    "SumOfSetNumbers(500)"
   ]
  },
  {
   "cell_type": "code",
   "execution_count": 29,
   "metadata": {},
   "outputs": [
    {
     "data": {
      "text/plain": [
       "125250"
      ]
     },
     "execution_count": 29,
     "metadata": {},
     "output_type": "execute_result"
    }
   ],
   "source": [
    "# Alternative Solution to Final Answer\n",
    "\n",
    "def SumOfSetNumbers(x):\n",
    "    Sum = sum(range(1,x,1))\n",
    "    Num = x\n",
    "    return Sum+Num\n",
    "\n",
    "SumOfSetNumbers(500)"
   ]
  },
  {
   "cell_type": "code",
   "execution_count": 48,
   "metadata": {},
   "outputs": [
    {
     "name": "stdout",
     "output_type": "stream",
     "text": [
      "125250\n"
     ]
    }
   ],
   "source": [
    "# I used the Running Total as a form of Checking if every possible value will yield the right answer. \n",
    "\n",
    "Total = 0\n",
    "\n",
    "for T in range (0,501):\n",
    "    Total += T\n",
    "\n",
    "print(Total)"
   ]
  },
  {
   "cell_type": "markdown",
   "metadata": {},
   "source": [
    "# 4\n",
    "### 3 points\n",
    "\n",
    "Write a function that does the following:\n",
    "1. The function iterates through each number from 1 to 100. Print each number.\n",
    "2. If the number is divisible by 3, instead of the number, print \"Fizz\"\n",
    "3. If the number is divisible by 5, instead of the number, print \"Buzz\"\n",
    "4. If the number is divisible by both 3 and 5, instead of the number, print \"FizzBuzz\"\n",
    "\n",
    "e.g.\n",
    "\n",
    "1\n",
    "\n",
    "2\n",
    "\n",
    "Fizz\n",
    "\n",
    "4\n",
    "\n",
    "Buzz\n",
    "\n",
    "Fizz\n",
    "\n",
    "...\n",
    "\n",
    "14\n",
    "\n",
    "FizzBuzz\n",
    "\n",
    "16\n",
    "\n",
    "17\n",
    "\n",
    "..."
   ]
  },
  {
   "cell_type": "code",
   "execution_count": 20,
   "metadata": {},
   "outputs": [
    {
     "name": "stdout",
     "output_type": "stream",
     "text": [
      "1\n",
      "2\n",
      "Fizz\n",
      "4\n",
      "Buzz\n",
      "Fizz\n",
      "7\n",
      "8\n",
      "Fizz\n",
      "Buzz\n",
      "11\n",
      "Fizz\n",
      "13\n",
      "14\n",
      "FizzBuzz\n",
      "16\n",
      "17\n",
      "Fizz\n",
      "19\n",
      "Buzz\n",
      "Fizz\n",
      "22\n",
      "23\n",
      "Fizz\n",
      "Buzz\n",
      "26\n",
      "Fizz\n",
      "28\n",
      "29\n",
      "FizzBuzz\n",
      "31\n",
      "32\n",
      "Fizz\n",
      "34\n",
      "Buzz\n",
      "Fizz\n",
      "37\n",
      "38\n",
      "Fizz\n",
      "Buzz\n",
      "41\n",
      "Fizz\n",
      "43\n",
      "44\n",
      "FizzBuzz\n",
      "46\n",
      "47\n",
      "Fizz\n",
      "49\n",
      "Buzz\n",
      "Fizz\n",
      "52\n",
      "53\n",
      "Fizz\n",
      "Buzz\n",
      "56\n",
      "Fizz\n",
      "58\n",
      "59\n",
      "FizzBuzz\n",
      "61\n",
      "62\n",
      "Fizz\n",
      "64\n",
      "Buzz\n",
      "Fizz\n",
      "67\n",
      "68\n",
      "Fizz\n",
      "Buzz\n",
      "71\n",
      "Fizz\n",
      "73\n",
      "74\n",
      "FizzBuzz\n",
      "76\n",
      "77\n",
      "Fizz\n",
      "79\n",
      "Buzz\n",
      "Fizz\n",
      "82\n",
      "83\n",
      "Fizz\n",
      "Buzz\n",
      "86\n",
      "Fizz\n",
      "88\n",
      "89\n",
      "FizzBuzz\n",
      "91\n",
      "92\n",
      "Fizz\n",
      "94\n",
      "Buzz\n",
      "Fizz\n",
      "97\n",
      "98\n",
      "Fizz\n",
      "Buzz\n"
     ]
    }
   ],
   "source": [
    "# Scratch Cell to prove that the range could generate the desired outcome.\n",
    "\n",
    "for OneToOneHundred in range(1,101,1): \n",
    "    if (OneToOneHundred%15)==0:\n",
    "        print(\"FizzBuzz\")\n",
    "    elif (OneToOneHundred%5)==0:\n",
    "        print(\"Buzz\")\n",
    "    elif (OneToOneHundred%3)==0:\n",
    "        print(\"Fizz\")\n",
    "    else:\n",
    "        print(OneToOneHundred)"
   ]
  },
  {
   "cell_type": "code",
   "execution_count": 10,
   "metadata": {},
   "outputs": [
    {
     "name": "stdout",
     "output_type": "stream",
     "text": [
      "1\n",
      "2\n",
      "Fizz\n",
      "4\n",
      "Buzz\n",
      "Fizz\n",
      "7\n",
      "8\n",
      "Fizz\n",
      "Buzz\n",
      "11\n",
      "Fizz\n",
      "13\n",
      "14\n",
      "FizzBuzz\n",
      "16\n",
      "17\n",
      "Fizz\n",
      "19\n",
      "Buzz\n",
      "Fizz\n",
      "22\n",
      "23\n",
      "Fizz\n",
      "Buzz\n",
      "26\n",
      "Fizz\n",
      "28\n",
      "29\n",
      "FizzBuzz\n",
      "31\n",
      "32\n",
      "Fizz\n",
      "34\n",
      "Buzz\n",
      "Fizz\n",
      "37\n",
      "38\n",
      "Fizz\n",
      "Buzz\n",
      "41\n",
      "Fizz\n",
      "43\n",
      "44\n",
      "FizzBuzz\n",
      "46\n",
      "47\n",
      "Fizz\n",
      "49\n",
      "Buzz\n",
      "Fizz\n",
      "52\n",
      "53\n",
      "Fizz\n",
      "Buzz\n",
      "56\n",
      "Fizz\n",
      "58\n",
      "59\n",
      "FizzBuzz\n",
      "61\n",
      "62\n",
      "Fizz\n",
      "64\n",
      "Buzz\n",
      "Fizz\n",
      "67\n",
      "68\n",
      "Fizz\n",
      "Buzz\n",
      "71\n",
      "Fizz\n",
      "73\n",
      "74\n",
      "FizzBuzz\n",
      "76\n",
      "77\n",
      "Fizz\n",
      "79\n",
      "Buzz\n",
      "Fizz\n",
      "82\n",
      "83\n",
      "Fizz\n",
      "Buzz\n",
      "86\n",
      "Fizz\n",
      "88\n",
      "89\n",
      "FizzBuzz\n",
      "91\n",
      "92\n",
      "Fizz\n",
      "94\n",
      "Buzz\n",
      "Fizz\n",
      "97\n",
      "98\n",
      "Fizz\n",
      "Buzz\n",
      "\n"
     ]
    }
   ],
   "source": [
    "# Subjected the Scratch Cell into the function. Added a return \"\" in order to remove an additional \"None.\"\n",
    "\n",
    "def FizzBuzz(x):\n",
    "    for OneToOneHundred in range(1,x+1): \n",
    "        if (OneToOneHundred%15)==0:\n",
    "            print(\"FizzBuzz\")\n",
    "        elif (OneToOneHundred%5)==0:\n",
    "            print(\"Buzz\")\n",
    "        elif (OneToOneHundred%3)==0:\n",
    "            print(\"Fizz\")\n",
    "        else:\n",
    "            print(OneToOneHundred)\n",
    "    return \"\" \n",
    "            \n",
    "print(FizzBuzz(100))"
   ]
  },
  {
   "cell_type": "markdown",
   "metadata": {},
   "source": [
    "# 5\n",
    "### 2 points\n",
    "\n",
    "Each new term in the Fibonacci sequence is generated by adding the previous two terms. By starting with 1 and 2, the first 10 terms will be:\n",
    "\n",
    "1, 2, 3, 5, 8, 13, 21, 34, 55, 89, ...\n",
    "\n",
    "By considering the terms in the Fibonacci sequence whose values do not exceed four million, using programming, find the sum of the even-valued terms."
   ]
  },
  {
   "cell_type": "code",
   "execution_count": 31,
   "metadata": {},
   "outputs": [
    {
     "name": "stdout",
     "output_type": "stream",
     "text": [
      "1 , 2 , 3 , 5 , 8 , 13 , 21 , 34 , 55 , 89 , 144 , 233 , 377 , 610 , 987 , 1597 , 2584 , 4181 , 6765 , 10946 , 17711 , 28657 , 46368 , 75025 , 121393 , 196418 , 317811 , 514229 , 832040 , 1346269 , 2178309 , 3524578 , "
     ]
    }
   ],
   "source": [
    "# Scratch Cell in order to generate the even-valued Fibonacci Sequence all before the value of 4,000,000\n",
    "\n",
    "Term1 = 1\n",
    "Term2 = 2\n",
    "TermN = 0\n",
    "Sum = 0\n",
    "\n",
    "print(1, end=\" , \")\n",
    "\n",
    "def IfEven(Term2):\n",
    "    return Term2 % 2 == 0\n",
    "\n",
    "while not TermN > 4000000:\n",
    "   print(Term2, end=' , ')\n",
    "   if IfEven(Term2):\n",
    "       Sum = Sum + Term2\n",
    "   TermN = Term1 + Term2\n",
    "   Term1 = Term2\n",
    "   Term2 = TermN\n",
    "   "
   ]
  },
  {
   "cell_type": "code",
   "execution_count": 37,
   "metadata": {},
   "outputs": [
    {
     "name": "stdout",
     "output_type": "stream",
     "text": [
      "2, 8, 34, 144, 610, 2584, 10946, 46368, 196418, 832040, 3524578, "
     ]
    }
   ],
   "source": [
    "# Scratch cell to generate the even-valued terms in the Fibonacci Sequence all less than 4,000,000\n",
    "\n",
    "Term1 = 1\n",
    "Term2 = 2\n",
    "TermN = 0\n",
    "Sum = 0\n",
    "\n",
    "def IfEven(Term2):\n",
    "    return Term2 % 2 == 0\n",
    "\n",
    "while not TermN > 4000000:\n",
    "   if IfEven(Term2):\n",
    "       print(Term2, end = ', ')\n",
    "       Sum = Sum + Term2\n",
    "   TermN = Term1 + Term2\n",
    "   Term1 = Term2\n",
    "   Term2 = TermN\n"
   ]
  },
  {
   "cell_type": "code",
   "execution_count": 38,
   "metadata": {},
   "outputs": [
    {
     "name": "stdout",
     "output_type": "stream",
     "text": [
      "4613732\n"
     ]
    }
   ],
   "source": [
    "# Final Answer Cell\n",
    "\n",
    "Term1 = 1\n",
    "Term2 = 2\n",
    "TermN = 0\n",
    "Sum = 0\n",
    "\n",
    "def IfEven(Term2):\n",
    "    return Term2 % 2 == 0\n",
    "\n",
    "while not TermN > 4000000:\n",
    "   if IfEven(Term2):\n",
    "       # print(Term2, end = ', ')\n",
    "       Sum = Sum + Term2\n",
    "   TermN = Term1 + Term2\n",
    "   Term1 = Term2\n",
    "   Term2 = TermN\n",
    "\n",
    "print(Sum)\n"
   ]
  },
  {
   "cell_type": "code",
   "execution_count": 22,
   "metadata": {},
   "outputs": [
    {
     "name": "stdout",
     "output_type": "stream",
     "text": [
      "4613732\n"
     ]
    }
   ],
   "source": [
    "# Alternative Solution that yields the same answer\n",
    "\n",
    "def Fibonacci(n):\n",
    "    if n==0:\n",
    "        return 0\n",
    "    if n==1:\n",
    "        return 1\n",
    "    if n>1:\n",
    "        return Fibonacci(n-1)+Fibonacci(n-2)\n",
    "    \n",
    "n=0\n",
    "SUM=0\n",
    "while Fibonacci(n)<4000000:\n",
    "    if Fibonacci(n)%2==0:\n",
    "        SUM+=Fibonacci(n)\n",
    "    n+=1\n",
    "    \n",
    "print(SUM)"
   ]
  },
  {
   "cell_type": "markdown",
   "metadata": {},
   "source": [
    "# 6\n",
    "### 5 points (all or nothing)\n",
    "\n",
    "The sum of the squares of the first ten natural numbers is,\n",
    "12 + 22 + ... + 102 = 385\n",
    "\n",
    "The square of the sum of the first ten natural numbers is,\n",
    "(1 + 2 + ... + 10)2 = 552 = 3025\n",
    "\n",
    "Hence the difference between the sum of the squares of the first ten natural numbers and the square of the sum is 3025 − 385 = 2640.\n",
    "\n",
    "Find the difference between the sum of the squares of the first one hundred natural numbers and the square of the sum.\n",
    "\n",
    "Show code that generates the answer."
   ]
  },
  {
   "cell_type": "code",
   "execution_count": 17,
   "metadata": {},
   "outputs": [
    {
     "name": "stdout",
     "output_type": "stream",
     "text": [
      "1, 2, 3, 4, 5, 6, 7, 8, 9, 10, 11, 12, 13, 14, 15, 16, 17, 18, 19, 20, 21, 22, 23, 24, 25, 26, 27, 28, 29, 30, 31, 32, 33, 34, 35, 36, 37, 38, 39, 40, 41, 42, 43, 44, 45, 46, 47, 48, 49, 50, 51, 52, 53, 54, 55, 56, 57, 58, 59, 60, 61, 62, 63, 64, 65, 66, 67, 68, 69, 70, 71, 72, 73, 74, 75, 76, 77, 78, 79, 80, 81, 82, 83, 84, 85, 86, 87, 88, 89, 90, 91, 92, 93, 94, 95, 96, 97, 98, 99, 100, "
     ]
    }
   ],
   "source": [
    "# Scratch Cell to present all the values from 1 to 100\n",
    "\n",
    "for IntegersOneToOneHundred in range (1,101,1):\n",
    "    print(IntegersOneToOneHundred,end=\", \")"
   ]
  },
  {
   "cell_type": "code",
   "execution_count": 15,
   "metadata": {},
   "outputs": [
    {
     "name": "stdout",
     "output_type": "stream",
     "text": [
      "1, 4, 9, 16, 25, 36, 49, 64, 81, 100, 121, 144, 169, 196, 225, 256, 289, 324, 361, 400, 441, 484, 529, 576, 625, 676, 729, 784, 841, 900, 961, 1024, 1089, 1156, 1225, 1296, 1369, 1444, 1521, 1600, 1681, 1764, 1849, 1936, 2025, 2116, 2209, 2304, 2401, 2500, 2601, 2704, 2809, 2916, 3025, 3136, 3249, 3364, 3481, 3600, 3721, 3844, 3969, 4096, 4225, 4356, 4489, 4624, 4761, 4900, 5041, 5184, 5329, 5476, 5625, 5776, 5929, 6084, 6241, 6400, 6561, 6724, 6889, 7056, 7225, 7396, 7569, 7744, 7921, 8100, 8281, 8464, 8649, 8836, 9025, 9216, 9409, 9604, 9801, 10000, "
     ]
    }
   ],
   "source": [
    "# Scratch Cell to present all the squared values from 1 to 100\n",
    "\n",
    "for SquaresOneToOneHundred in range (1,101,1):\n",
    "    print(SquaresOneToOneHundred**2, end=\", \")"
   ]
  },
  {
   "cell_type": "code",
   "execution_count": 24,
   "metadata": {},
   "outputs": [
    {
     "name": "stdout",
     "output_type": "stream",
     "text": [
      "25502500\n"
     ]
    }
   ],
   "source": [
    "# Scratch Cell to yield a portion of the final answer\n",
    "\n",
    "def SquareOfSum(x):\n",
    "    Sum = sum(range(1,x+1,1))\n",
    "    return Sum**2\n",
    "\n",
    "print(SquareOfSum(100))\n"
   ]
  },
  {
   "cell_type": "code",
   "execution_count": 25,
   "metadata": {},
   "outputs": [
    {
     "name": "stdout",
     "output_type": "stream",
     "text": [
      "338350\n"
     ]
    }
   ],
   "source": [
    "# Scratch cell to yield the other portion of the final answer\n",
    "\n",
    "def SumOfSquares(x):\n",
    "    Sum = 0\n",
    "    for Number in range(1,x + 1,1):\n",
    "        Square = Number**2\n",
    "        Sum = Sum + Square\n",
    "    return Sum\n",
    "\n",
    "print(SumOfSquares(100))\n",
    "       "
   ]
  },
  {
   "cell_type": "code",
   "execution_count": 18,
   "metadata": {
    "scrolled": true
   },
   "outputs": [
    {
     "name": "stdout",
     "output_type": "stream",
     "text": [
      "25164150\n",
      "-25164150\n"
     ]
    }
   ],
   "source": [
    "# Final Answer Cell\n",
    "\n",
    "def SquareOfSum(x):\n",
    "    Sum = sum(range(1,x+1,1))\n",
    "    return Sum**2\n",
    "\n",
    "def SumOfSquares(x):\n",
    "    Sum = 0\n",
    "    for Number in range(1,x + 1,1):\n",
    "        Square = Number**2\n",
    "        Sum = Sum + Square\n",
    "    return Sum\n",
    "\n",
    "print(SumOfSquares(100)-SquareOfSum(100))"
   ]
  }
 ],
 "metadata": {
  "kernelspec": {
   "display_name": "Python 3",
   "language": "python",
   "name": "python3"
  },
  "language_info": {
   "codemirror_mode": {
    "name": "ipython",
    "version": 3
   },
   "file_extension": ".py",
   "mimetype": "text/x-python",
   "name": "python",
   "nbconvert_exporter": "python",
   "pygments_lexer": "ipython3",
   "version": "3.7.3"
  }
 },
 "nbformat": 4,
 "nbformat_minor": 2
}
