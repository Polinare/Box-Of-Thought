{
 "cells": [
  {
   "cell_type": "markdown",
   "metadata": {},
   "source": [
    "# Outline\n",
    "\n",
    "\n",
    "   ### I. Markdown\n",
    "   ### II. Python"
   ]
  },
  {
   "cell_type": "markdown",
   "metadata": {},
   "source": [
    "# Markdown\n",
    "https://guides.github.com/pdfs/markdown-cheatsheet-online.pdf"
   ]
  },
  {
   "cell_type": "markdown",
   "metadata": {},
   "source": [
    "# Python"
   ]
  },
  {
   "cell_type": "markdown",
   "metadata": {},
   "source": [
    "## Comments"
   ]
  },
  {
   "cell_type": "code",
   "execution_count": 1,
   "metadata": {},
   "outputs": [],
   "source": [
    "# This is a code cell.\n",
    "# Normally, this means that anything in it will be interpreted as Python code.\n",
    "# However, by putting the character \"#\" in front of your line of text, it will be ignored by the interpreter."
   ]
  },
  {
   "cell_type": "markdown",
   "metadata": {},
   "source": [
    "## Math"
   ]
  },
  {
   "cell_type": "code",
   "execution_count": 2,
   "metadata": {},
   "outputs": [
    {
     "data": {
      "text/plain": [
       "9"
      ]
     },
     "execution_count": 2,
     "metadata": {},
     "output_type": "execute_result"
    }
   ],
   "source": [
    "# The basic operations are:\n",
    "2 + 3 # Addition\n",
    "2 - 3 # Subtraction\n",
    "2 * 3 # Multiplication\n",
    "2 / 3 # Division\n",
    "\n",
    "# Special operations include:\n",
    "# Modulo, which returns the remainder.\n",
    "3 % 2\n",
    "# Floor division, which returns only the whole number of the output, not the decimals attached.\n",
    "3 // 2\n",
    "# Raising-to-a-power (exponents), which returns the number raised to the power indicated.\n",
    "3 ** 2"
   ]
  },
  {
   "cell_type": "markdown",
   "metadata": {},
   "source": [
    "## Variables"
   ]
  },
  {
   "cell_type": "code",
   "execution_count": 3,
   "metadata": {},
   "outputs": [
    {
     "data": {
      "text/plain": [
       "10"
      ]
     },
     "execution_count": 3,
     "metadata": {},
     "output_type": "execute_result"
    }
   ],
   "source": [
    "# Variables are named containers for values.\n",
    "# In math, a variable may be assigned by saying:\n",
    "#  let x = 10\n",
    "# Now, in math, a variable called x exists, and it contains the number 10.\n",
    "# In Python, a variable is assigned by simply naming the variable, placing an equals sign, and giving it a value.\n",
    "# For example:\n",
    "\n",
    "x = 10\n",
    "\n",
    "# Now, a Python variable called x exists, and it contains the number 10.\n",
    "# If we make Jupyter show the value of the variable, we will get the number 10.\n",
    "\n",
    "x"
   ]
  },
  {
   "cell_type": "code",
   "execution_count": 4,
   "metadata": {},
   "outputs": [
    {
     "data": {
      "text/plain": [
       "8"
      ]
     },
     "execution_count": 4,
     "metadata": {},
     "output_type": "execute_result"
    }
   ],
   "source": [
    "# Variables can be changed.\n",
    "y = 10\n",
    "# Now, I will change the value of y from 10 to 5.\n",
    "y = 5\n",
    "# I can reference variables on the right side of the assignment equation. They will refer to themselves.\n",
    "# Now, I will add 3 to y.\n",
    "y = y + 3\n",
    "\n",
    "# Now, when I reference y, it will display 8.\n",
    "y"
   ]
  },
  {
   "cell_type": "code",
   "execution_count": 5,
   "metadata": {},
   "outputs": [],
   "source": [
    "# Variables can be used as expressions in lieu of the actual expressions."
   ]
  },
  {
   "cell_type": "markdown",
   "metadata": {},
   "source": [
    "### Data Types\n",
    "Not every variable has to be a number.\n",
    "\n",
    "Variables can take on many different data types.\n",
    "The ones discussed in class were **integers**, which are numbers with no decimal points, **floats**, which are numbers with decimal points, **strings**, which are \"strings\" of characters, and **booleans**, which are truth values (either True or False).\n",
    "\n",
    "A comprehensive list of data types relevant to you can be found here:\n",
    "https://realpython.com/python-data-types/"
   ]
  },
  {
   "cell_type": "markdown",
   "metadata": {},
   "source": [
    "## Logic Operators"
   ]
  },
  {
   "cell_type": "code",
   "execution_count": 6,
   "metadata": {},
   "outputs": [
    {
     "data": {
      "text/plain": [
       "True"
      ]
     },
     "execution_count": 6,
     "metadata": {},
     "output_type": "execute_result"
    }
   ],
   "source": [
    "# Math operator expressions return numbers like integers or floats.\n",
    "# Logic operator expressions return booleans. They are either true or false.\n",
    "\n",
    "# To illustrate, I will have two integer variables x and y.\n",
    "x = 10\n",
    "y = 20\n",
    "\n",
    "# The basic logic operators are:\n",
    "x > y # Greater than\n",
    "x >= y # Greater than or equal to\n",
    "x < y # Less than\n",
    "x <= y # Less than or equal to\n",
    "x == y # Is equal to\n",
    "x != y # Not equal to\n",
    "\n",
    "# For example:\n",
    "# x < y would evaluate to False.\n",
    "# x != y would evaluate to True.\n",
    "\n",
    "# These are especially important in the following section."
   ]
  },
  {
   "cell_type": "markdown",
   "metadata": {},
   "source": [
    "## If-Elif-Else Statements"
   ]
  },
  {
   "cell_type": "code",
   "execution_count": 7,
   "metadata": {},
   "outputs": [
    {
     "name": "stdout",
     "output_type": "stream",
     "text": [
      "x is less than y.\n",
      "Happy birthday, me!\n",
      "Happy birthday, friend!\n"
     ]
    }
   ],
   "source": [
    "# If statements evaluate conditions and separate code into different branches.\n",
    "# Again, to illustrate, I will have two integer variables x and y.\n",
    "x = 10\n",
    "y = 20\n",
    "\n",
    "# An if statement typically look like this:\n",
    "if (x > y):\n",
    "    print(\"x is greater than y.\")\n",
    "elif (x < y):\n",
    "    print(\"x is less than y.\")\n",
    "else:\n",
    "    print(\"x is equal to y.\")\n",
    "    \n",
    "# Python will sense which condition is correct. It will only run the code under the branch whose condition is true.\n",
    "# Python runs from top to bottom, so even if multiple statements are true, Python will only run\n",
    "#   the code under the first true condition.\n",
    "# In this case, it passes over \"if (x > y)\" because this condition is not true.\n",
    "# It will run the code under \"elif (x < y)\" because this condition is true.\n",
    "# It will not even reach \"else\" because it already found a true statement.\n",
    "\n",
    "# If you have independent conditions, you may want to separate conditions into separate if statements.\n",
    "# For example:\n",
    "myBirthday = 25\n",
    "friendBirthday = 25\n",
    "currentDay = 25\n",
    "\n",
    "if (myBirthday == currentDay):\n",
    "    print(\"Happy birthday, me!\")\n",
    "else:\n",
    "    print(\"Good morning, me.\")\n",
    "\n",
    "if (friendBirthday == 25):\n",
    "    print(\"Happy birthday, friend!\")\n",
    "else:\n",
    "    print(\"Good morning, friend.\")\n",
    "    \n",
    "# The fact that it is my birthday does not stop it from being my friend's birthday.\n",
    "# Both can happen at the same time, so for me to greet everybody appropriately, I need separate if statements.\n",
    "# If the birthday conditions were kept in the same if statement, then once it finds a true statement, it will ignore\n",
    "#   the other true statements."
   ]
  },
  {
   "cell_type": "markdown",
   "metadata": {},
   "source": [
    "## For Loops"
   ]
  },
  {
   "cell_type": "code",
   "execution_count": 8,
   "metadata": {},
   "outputs": [
    {
     "name": "stdout",
     "output_type": "stream",
     "text": [
      "1\n",
      "2\n",
      "3\n",
      "4\n",
      "5\n",
      "6\n",
      "7\n",
      "8\n",
      "9\n"
     ]
    }
   ],
   "source": [
    "# To run a block of code multiple times, Python uses loops.\n",
    "# The most important loop for you is the \"for\" loop.\n",
    "# For loops loop a block of code a specified number of times.\n",
    "# For example:\n",
    "for i in range(1,10):\n",
    "    print(i)\n",
    "# This would go through each number from 1 to 9 because the interval in range() acts like [x,y).\n",
    "# In the for loop, you can actually reference the number you are on by calling on the variable \"i\".\n",
    "# You can use i as merely a counter or as something to be referenced based on the situation."
   ]
  },
  {
   "cell_type": "code",
   "execution_count": 9,
   "metadata": {},
   "outputs": [
    {
     "name": "stdout",
     "output_type": "stream",
     "text": [
      "H\n",
      "e\n",
      "l\n",
      "l\n",
      "o\n",
      "!\n"
     ]
    }
   ],
   "source": [
    "# for loops can iterate over other items, like string characters:\n",
    "for char in \"Hello!\":\n",
    "    print(char)\n",
    "    \n",
    "# Later, when we introduce concepts like lists, you will see that the for loop can handle their elements, too."
   ]
  },
  {
   "cell_type": "code",
   "execution_count": 10,
   "metadata": {},
   "outputs": [
    {
     "name": "stdout",
     "output_type": "stream",
     "text": [
      "Unrelated string.\n",
      "Unrelated string.\n",
      "Unrelated string.\n",
      "Unrelated string.\n",
      "Unrelated string.\n"
     ]
    }
   ],
   "source": [
    "# Don't forget that for loops can do things totally unrelated to the current number or character.\n",
    "for i in range(1,6):\n",
    "    print(\"Unrelated string.\")"
   ]
  },
  {
   "cell_type": "markdown",
   "metadata": {},
   "source": [
    "## Functions"
   ]
  },
  {
   "cell_type": "code",
   "execution_count": 11,
   "metadata": {},
   "outputs": [
    {
     "name": "stdout",
     "output_type": "stream",
     "text": [
      "This is the print function.\n"
     ]
    }
   ],
   "source": [
    "# Functions are blocks of code that are \"encapsulated\" in a command. \n",
    "# You can make the code run simply by \"calling\" the function:\n",
    "#   functionName(parameters)\n",
    "\n",
    "# Examples of functions that you already know are:\n",
    "# Print. It takes one parameter, usually a string, and prints it in the console.\n",
    "print(\"This is the print function.\")"
   ]
  },
  {
   "cell_type": "code",
   "execution_count": 12,
   "metadata": {},
   "outputs": [
    {
     "data": {
      "text/plain": [
       "6"
      ]
     },
     "execution_count": 12,
     "metadata": {},
     "output_type": "execute_result"
    }
   ],
   "source": [
    "# Len. It takes a list or a string as a parameter and returns its length. The following call of len() should return 6.\n",
    "len(\"Hello!\")"
   ]
  },
  {
   "cell_type": "code",
   "execution_count": 13,
   "metadata": {},
   "outputs": [
    {
     "name": "stdout",
     "output_type": "stream",
     "text": [
      "Hello...\n",
      "8\n"
     ]
    }
   ],
   "source": [
    "# You can define your own functions.\n",
    "# For example, I want to make a function to print both a parameter string and the length of said string.\n",
    "def printAndLength(myString):\n",
    "    print(myString)\n",
    "    lengthOfString = len(myString)\n",
    "    print(lengthOfString)\n",
    "    \n",
    "# Illustrated in action:\n",
    "printAndLength(\"Hello...\")"
   ]
  },
  {
   "cell_type": "code",
   "execution_count": 14,
   "metadata": {},
   "outputs": [
    {
     "data": {
      "text/plain": [
       "6"
      ]
     },
     "execution_count": 14,
     "metadata": {},
     "output_type": "execute_result"
    }
   ],
   "source": [
    "# Sometimes, you want a function call to represent a value that you can use elsewhere.\n",
    "# To make a function have a value, use the keyword \"return\".\n",
    "# For example: I want to make a function multiply two numbers.\n",
    "def multiply(x, y):\n",
    "    product = x * y\n",
    "    return product\n",
    "\n",
    "# Whenever I call multiply(), I will receive a number back. Let's assign the value of multiply(3,2) to a variable.\n",
    "myProduct = multiply(2,3)\n",
    "\n",
    "# What is myProduct? It should be 6.\n",
    "myProduct"
   ]
  },
  {
   "cell_type": "markdown",
   "metadata": {},
   "source": [
    "# A More In-Depth Tutorial\n",
    "There are many resources available online. We recommend that you go through them to further sharpen your Python skills.\n",
    "\n",
    "https://docs.python.org/3/tutorial/"
   ]
  },
  {
   "cell_type": "code",
   "execution_count": null,
   "metadata": {},
   "outputs": [],
   "source": []
  }
 ],
 "metadata": {
  "kernelspec": {
   "display_name": "Python 3",
   "language": "python",
   "name": "python3"
  },
  "language_info": {
   "codemirror_mode": {
    "name": "ipython",
    "version": 3
   },
   "file_extension": ".py",
   "mimetype": "text/x-python",
   "name": "python",
   "nbconvert_exporter": "python",
   "pygments_lexer": "ipython3",
   "version": "3.7.3"
  }
 },
 "nbformat": 4,
 "nbformat_minor": 2
}
