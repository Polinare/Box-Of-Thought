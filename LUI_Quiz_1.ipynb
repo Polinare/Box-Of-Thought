{
 "cells": [
  {
   "cell_type": "markdown",
   "metadata": {},
   "source": [
    "# ITMGT 25.03 EE\n",
    "### Quiz 1\n",
    "\n",
    "This quiz will be credited to Class Participation. It is over 20 points.\n",
    "\n",
    "Instructions:\n",
    "1. Answer the questions below in the code box below the question. Follow the question carefully to avoid unnecessary deductions. If the question asks for a function, provide a function; if it asks for your function to return, then return, not print.\n",
    "2. You are allowed to submit this quiz in groups of 4 (maximum). Indicate your names in the given cell below this instruction cell. You are allowed to answer the quiz with fewer people (or even individually), but this is not recommended for difficulty reasons.\n",
    "3. Elect a group leader. This group leader will upload the group's notebook file to their GitHub repository, then they will send a link to their repository to joben.ilagan@gmail.com at 11:15 AM **at the latest** to accommodate for difficulties in sending the file. The file name should be: **GroupLeaderLastName_Quiz_1.ipynb**. Files sent from 11:16 AM to 12:15 PM will have final scores slashed in half, and files sent from 12:16 PM onwards will not be checked.\n",
    "4. This test is open notes and open internet. However, we may check code against internet sources.\n"
   ]
  },
  {
   "cell_type": "markdown",
   "metadata": {},
   "source": [
    "### Names: \n",
    "1. Jay Philbert C. Lui\n",
    "2. Ralph Francis Cruz\n",
    "3. Renz Shih\n",
    "4. Joseph Melliza"
   ]
  },
  {
   "cell_type": "markdown",
   "metadata": {},
   "source": [
    "# 1a.\n",
    "### 3 points\n",
    "\n",
    "### Context\n",
    "\n",
    "The Caesar cipher is a very basic method of encrypting text. This is how to encrypt a message using the Caesar cipher:\n",
    "1. First, pick a message. \n",
    "2. Second, pick a number. \n",
    "3. Shift the alphabet right by the number that you chose.\n",
    "4. Replace each letter in the message with the new letter based on the shifted alphabet.\n",
    "\n",
    "For example, to encrypt \"ABC\" with the number 3, shift each letter right by 3. In this case, \"ABC\" becomes \"DEF\" because D comes 3 letters after A, E comes 3 letters after B, and F comes 3 letters after C. Letters near the end of the alphabet simply wrap around: \"WXYZ\" encrypted with the number 2 would yield the encrypted message \"YZAB\".\n",
    "\n",
    "\n",
    "### Required\n",
    "Write a function that takes a message (string) and a number (integer) as parameters and **returns** the encrypted message (string) based on the Caesar cipher. The message is of a variable length: even if it is 100 or 1000 characters long, it should still work.\n",
    "\n",
    "e.g. \n",
    "\n",
    "encrypt(\"MEAMORE\", 0) -> \"MEAMORE\"\n",
    "\n",
    "encrypt(\"MEAMORE\", 2) -> \"OGCOQTG\"\n",
    "\n",
    "### Constraints\n",
    "For simplicity, assume:\n",
    "1. There are no spaces in any of the strings.\n",
    "2. The numbers are always positive integers.\n",
    "3. All strings will only consist of capital letters."
   ]
  },
  {
   "cell_type": "code",
   "execution_count": 165,
   "metadata": {},
   "outputs": [
    {
     "name": "stdout",
     "output_type": "stream",
     "text": [
      "{'A': 1, 'B': 2, 'C': 3, 'D': 4, 'E': 5, 'F': 6, 'G': 7, 'H': 8, 'I': 9, 'J': 10, 'K': 11, 'L': 12, 'M': 13, 'N': 14, 'O': 15, 'P': 16, 'Q': 17, 'R': 18, 'S': 19, 'T': 20, 'U': 21, 'V': 22, 'W': 23, 'X': 24, 'Y': 25, 'Z': 26}\n",
      "{1: 'A', 2: 'B', 3: 'C', 4: 'D', 5: 'E', 6: 'F', 7: 'G', 8: 'H', 9: 'I', 10: 'J', 11: 'K', 12: 'L', 13: 'M', 14: 'N', 15: 'O', 16: 'P', 17: 'Q', 18: 'R', 19: 'S', 20: 'T', 21: 'U', 22: 'V', 23: 'W', 24: 'X', 25: 'Y', 26: 'Z'}\n"
     ]
    }
   ],
   "source": [
    "# Reference Cell\n",
    "letters_dict = {\"A\":1,\n",
    "                \"B\":2,\n",
    "                \"C\":3,\n",
    "                \"D\":4,\n",
    "                \"E\":5,\n",
    "                \"F\":6,\n",
    "                \"G\":7,\n",
    "                \"H\":8,\n",
    "                \"I\":9,\n",
    "                \"J\":10,\n",
    "                \"K\":11,\n",
    "                \"L\":12,\n",
    "                \"M\":13,\n",
    "                \"N\":14,\n",
    "                \"O\":15,\n",
    "                \"P\":16,\n",
    "                \"Q\":17,\n",
    "                \"R\":18,\n",
    "                \"S\":19,\n",
    "                \"T\":20,\n",
    "                \"U\":21,\n",
    "                \"V\":22,\n",
    "                \"W\":23,\n",
    "                \"X\":24,\n",
    "                \"Y\":25,\n",
    "                \"Z\":26\n",
    "               }\n",
    "\n",
    "numbers_dict = {1:\"A\",\n",
    "                2:\"B\",\n",
    "                3:\"C\",\n",
    "                4:\"D\",\n",
    "                5:\"E\",\n",
    "                6:\"F\",\n",
    "                7:\"G\",\n",
    "                8:\"H\",\n",
    "                9:\"I\",\n",
    "                10:\"J\",\n",
    "                11:\"K\",\n",
    "                12:\"L\",\n",
    "                13:\"M\",\n",
    "                14:\"N\",\n",
    "                15:\"O\",\n",
    "                16:\"P\",\n",
    "                17:\"Q\",\n",
    "                18:\"R\",\n",
    "                19:\"S\",\n",
    "                20:\"T\",\n",
    "                21:\"U\",\n",
    "                22:\"V\",\n",
    "                23:\"W\",\n",
    "                24:\"X\",\n",
    "                25:\"Y\",\n",
    "                26:\"Z\"\n",
    "                }\n",
    "\n",
    "print(letters_dict)\n",
    "print(numbers_dict)"
   ]
  },
  {
   "cell_type": "code",
   "execution_count": 170,
   "metadata": {},
   "outputs": [
    {
     "data": {
      "text/plain": [
       "'CDE'"
      ]
     },
     "execution_count": 170,
     "metadata": {},
     "output_type": "execute_result"
    }
   ],
   "source": [
    "# Final Answer Cell\n",
    "def encrypt_message(message,x):\n",
    "    final_word = \"\"\n",
    "    tested_message = message.upper()\n",
    "    for character in tested_message:\n",
    "        #final_word += numbers_dict[letters_dict[character] + x]\n",
    "        if letters_dict[character] + x > 26:\n",
    "            final_word += numbers_dict[letters_dict[character] + x - 26]\n",
    "        else:\n",
    "            final_word += numbers_dict[letters_dict[character] + x]\n",
    "    return final_word\n",
    "        \n",
    "encrypt_message(\"xyz\",5)"
   ]
  },
  {
   "cell_type": "markdown",
   "metadata": {},
   "source": [
    "# 1b.\n",
    "### 2 points\n",
    "\n",
    "### Required\n",
    "Based on the way the Caesar cipher works, write a function that takes an encrypted message (string) and a number (integer) as parameters and **returns** the decrypted message (string). The message is of a variable length: even if it is 100 or 1000 characters long, it should still work.\n",
    "\n",
    "e.g.\n",
    "\n",
    "decrypt(\"OGCOQTG\", 2) -> \"MEAMORE\"\n",
    "\n",
    "### Constraints\n",
    "For simplicity, assume:\n",
    "1. There are no spaces in any of the strings.\n",
    "2. The numbers are always positive integers.\n",
    "3. All strings will only consist of capital letters.\n",
    "4. The number will not exceed 26."
   ]
  },
  {
   "cell_type": "code",
   "execution_count": null,
   "metadata": {},
   "outputs": [],
   "source": [
    "# Reference Cell\n",
    "letters_dict = {\"A\":1,\n",
    "                \"B\":2,\n",
    "                \"C\":3,\n",
    "                \"D\":4,\n",
    "                \"E\":5,\n",
    "                \"F\":6,\n",
    "                \"G\":7,\n",
    "                \"H\":8,\n",
    "                \"I\":9,\n",
    "                \"J\":10,\n",
    "                \"K\":11,\n",
    "                \"L\":12,\n",
    "                \"M\":13,\n",
    "                \"N\":14,\n",
    "                \"O\":15,\n",
    "                \"P\":16,\n",
    "                \"Q\":17,\n",
    "                \"R\":18,\n",
    "                \"S\":19,\n",
    "                \"T\":20,\n",
    "                \"U\":21,\n",
    "                \"V\":22,\n",
    "                \"W\":23,\n",
    "                \"X\":24,\n",
    "                \"Y\":25,\n",
    "                \"Z\":26\n",
    "               }\n",
    "\n",
    "numbers_dict = {1:\"A\",\n",
    "                2:\"B\",\n",
    "                3:\"C\",\n",
    "                4:\"D\",\n",
    "                5:\"E\",\n",
    "                6:\"F\",\n",
    "                7:\"G\",\n",
    "                8:\"H\",\n",
    "                9:\"I\",\n",
    "                10:\"J\",\n",
    "                11:\"K\",\n",
    "                12:\"L\",\n",
    "                13:\"M\",\n",
    "                14:\"N\",\n",
    "                15:\"O\",\n",
    "                16:\"P\",\n",
    "                17:\"Q\",\n",
    "                18:\"R\",\n",
    "                19:\"S\",\n",
    "                20:\"T\",\n",
    "                21:\"U\",\n",
    "                22:\"V\",\n",
    "                23:\"W\",\n",
    "                24:\"X\",\n",
    "                25:\"Y\",\n",
    "                26:\"Z\"\n",
    "                }\n",
    "\n",
    "print(letters_dict)\n",
    "print(numbers_dict)"
   ]
  },
  {
   "cell_type": "code",
   "execution_count": 171,
   "metadata": {},
   "outputs": [
    {
     "data": {
      "text/plain": [
       "'ZAB'"
      ]
     },
     "execution_count": 171,
     "metadata": {},
     "output_type": "execute_result"
    }
   ],
   "source": [
    "# Final Answer Cell\n",
    "def decrypt_message(message,x):\n",
    "    hidden_word = \"\"\n",
    "    tested_message = message.upper()\n",
    "    for character in tested_message:\n",
    "        #hidden_word += numbers_dict[letters_dict[character] - x]\n",
    "        if letters_dict[character] - x <= 0:\n",
    "            hidden_word += numbers_dict[letters_dict[character] - x + 26]\n",
    "        else: \n",
    "            hidden_word += numbers_dict[letters_dict[character] - x]\n",
    "    return hidden_word\n",
    "        \n",
    "decrypt_message(\"abc\",1)"
   ]
  },
  {
   "cell_type": "markdown",
   "metadata": {},
   "source": [
    "# 2\n",
    "\n",
    "### 5 points\n",
    "\n",
    "### Context\n",
    "\n",
    "The Caesar cipher is very easy to break. To remedy this, the Vigenère cipher was created as an extension to the Caesar cipher. This is how to encrypt a message based on the Vigenère cipher:\n",
    "1. Choose a message.\n",
    "2. Instead of choosing a number, choose a **keyword**. \n",
    "3. Repeat the keyword until the number of characters in the keyword matches the number of characters in the message.\n",
    "4. Shift each letter in the message right by the number value of the corresponding letter in the keyword.\n",
    "\n",
    "For example, to encrypt \"MEAMORE\" with the keyword \"UEDA\", first extend the keyword to match the length of the message. (In this case, the extended keyword would be \"UEDAUED\".) Now, shift each letter in \"MEAMORE\" by the number value of the corresponding letter in \"UEDAUED\" (for example, shift the first \"M\" 21 letters to the right because \"U\", the first letter in the keyword, is the 21st letter of the alphabet) to get \"GIDMIVH\" as the encrypted message.\n",
    "\n",
    "### Required\n",
    "Write a function that takes a message (string) and a keyword (string) as parameters and **returns** the Vigenère cipher encryption of the message. The message is of a variable length: even if it is 100 or 1000 characters long, it should still work.\n",
    "\n",
    "e.g.\n",
    "\n",
    "v_encrypt(\"ACCOUNTING\", \"SANEZ\") -> \"SCPSTFTVRF\"\n",
    "\n",
    "### Constraints\n",
    "For simplicity, assume:\n",
    "1. There are no spaces in any of the strings.\n",
    "2. The numbers are always positive integers.\n",
    "3. All strings will only consist of capital letters.\n",
    "4. The keyword will never exceed the length of the message."
   ]
  },
  {
   "cell_type": "code",
   "execution_count": 192,
   "metadata": {},
   "outputs": [
    {
     "name": "stdout",
     "output_type": "stream",
     "text": [
      "{'A': 0, 'B': 1, 'C': 2, 'D': 3, 'E': 4, 'F': 5, 'G': 6, 'H': 7, 'I': 8, 'J': 9, 'K': 10, 'L': 11, 'M': 12, 'N': 13, 'O': 14, 'P': 15, 'Q': 16, 'R': 17, 'S': 18, 'T': 19, 't': 19, 'U': 20, 'u': 20, 'V': 21, 'W': 22, 'X': 23, 'x': 23, 'Y': 24, 'y': 24, 'Z': 25}\n"
     ]
    }
   ],
   "source": [
    "alphabet_pos = {'A':0, 'B':1, 'C':2, 'D':3,\n",
    "                'E':4, 'F':5, 'G':6, 'H':7, 'I':8, 'J':9, 'K':10, \n",
    "                'L':11, 'M':12, 'N': 13, 'O':14, 'P':15, 'Q':16, \n",
    "                'R':17, 'S':18, 'T':19, 't':19, 'U':20, 'u':20, \n",
    "                'V':21, 'W':22, 'X':23, 'x':23, 'Y':24, 'y':24, 'Z':25}\n",
    "\n",
    "print(alphabet_pos)"
   ]
  },
  {
   "cell_type": "code",
   "execution_count": 193,
   "metadata": {},
   "outputs": [
    {
     "data": {
      "text/plain": [
       "'SCPSTFTVRF'"
      ]
     },
     "execution_count": 193,
     "metadata": {},
     "output_type": "execute_result"
    }
   ],
   "source": [
    "alphabet_pos = {'A':0, 'B':1, 'C':2, 'D':3,\n",
    "                'E':4, 'F':5, 'G':6, 'H':7, 'I':8, 'J':9, 'K':10, \n",
    "                'L':11, 'M':12, 'N': 13, 'O':14, 'P':15, 'Q':16, \n",
    "                'R':17, 'S':18, 'T':19, 't':19, 'U':20, 'u':20, \n",
    "                'V':21, 'W':22, 'X':23, 'x':23, 'Y':24, 'y':24, 'Z':25}\n",
    "\n",
    "def alphabet_position(letter):\n",
    "    pos = alphabet_pos[letter]\n",
    "    return pos\n",
    "\n",
    "def rotate(letter, rot):\n",
    "    shift = 97 if letter.islower() else 65\n",
    "    return chr((ord(letter) + rot - shift) % 26 + shift)\n",
    "\n",
    "def v_encrypt(text, key):\n",
    "    encrypted = []    \n",
    "    starting_index = 0\n",
    "    for letter in text:\n",
    "    # find alphabet position\n",
    "        rotation = alphabet_position(key[starting_index])\n",
    "        if letter.isalpha():            \n",
    "            encrypted.append(rotate(letter, rotation))             \n",
    "        if starting_index == (len(key) - 1): \n",
    "            starting_index = 0\n",
    "        else: \n",
    "            starting_index += 1\n",
    "\n",
    "    return ''.join(encrypted)    \n",
    "\n",
    "v_encrypt(\"ACCOUNTING\",\"SANEZ\")\n",
    "    \n"
   ]
  },
  {
   "cell_type": "markdown",
   "metadata": {},
   "source": [
    "# 3\n",
    "### 5 points\n",
    "\n",
    "### Context\n",
    "Recall the concept of number system bases.\n",
    "\n",
    "\n",
    "You are most familiar with the decimal system, also known as base-10. Decimal has ten digits: \\[0, 1, 2, 3, 4, 5, 6, 7, 8, 9\\]. A decimal number such as \"425\" can be evaluated by separating its digits, multiplying each separated digit to its system's base raised to a certain exponent that is based on the digit's place in the number, then adding each resulting product back together. Illustrated:\n",
    "\n",
    "\n",
    "    # From decimal:\n",
    "    # 425 == (4 * 10**2) + (2 * 10**1) + (5 * 10**0) == 400 + 20 + 5 == 425\n",
    "\n",
    "### Required\n",
    "Write a function that takes three arguments: a number, its base, and the base to which it should be converted. The function should **return** the number in its new base (string). You need only consider bases 2 through 10: the function must be able to interpret a number from any base from 2 to 10 (including those in between), and it must be able to transform the resulting value into a number from any base from 2 to 10 (including those in between). All three arguments are integers. The number to be converted is variable in length.\n",
    "\n",
    "\n",
    "Format: \n",
    "\n",
    "    convert(number, old_base, new_base)\n",
    "\n",
    "e.g. \n",
    "\n",
    "    convert(101, 2, 10) -> 5 \n",
    "    convert(5, 10, 2) -> 101"
   ]
  },
  {
   "cell_type": "code",
   "execution_count": 183,
   "metadata": {},
   "outputs": [
    {
     "data": {
      "text/plain": [
       "'27'"
      ]
     },
     "execution_count": 183,
     "metadata": {},
     "output_type": "execute_result"
    }
   ],
   "source": [
    "# Final Answer\n",
    "def dec_to_dif_base(x, base):\n",
    "    assert(x >= 0) # asserting meaning only by these conditions will the function operate.\n",
    "    assert(2 <= base <= 10)\n",
    "    r = ''\n",
    "    import string # provides all the possible values needed in generating values based on different bases.\n",
    "    while x > 0:\n",
    "        r = string.printable[x % base] + r # takes into consideration only the printable characters, so to remove whitespace.\n",
    "        x //= base # use of the floor division operator to get the integer quotient and drop decimals or remainders.\n",
    "    return r\n",
    "\n",
    "def dif_base_to_dec(y, base):\n",
    "    assert(2 <= base <= 10)\n",
    "    return int(y, base)\n",
    "\n",
    "def convert_bases(z, base1, base2):\n",
    "    return dec_to_dif_base(dif_base_to_dec(z, base1), base2) # Recursive function, to call into one function, a previous function. \n",
    "\n",
    "convert_bases(\"123\",4,10)\n",
    "\n"
   ]
  },
  {
   "cell_type": "code",
   "execution_count": 188,
   "metadata": {},
   "outputs": [
    {
     "data": {
      "text/plain": [
       "'101'"
      ]
     },
     "execution_count": 188,
     "metadata": {},
     "output_type": "execute_result"
    }
   ],
   "source": [
    "# Scratch Cell\n",
    "\n",
    "def dif_base_to_dec(x, base):\n",
    "\n",
    "    assert(x >= 0)\n",
    "    assert(2 <= base <= 10)\n",
    "    r = ''\n",
    "    import string \n",
    "    while x > 0:\n",
    "        r = string.printable[x % base] + r\n",
    "        x //= base \n",
    "    return r\n",
    "\n",
    "frm(5,2)"
   ]
  },
  {
   "cell_type": "code",
   "execution_count": 187,
   "metadata": {},
   "outputs": [
    {
     "data": {
      "text/plain": [
       "5"
      ]
     },
     "execution_count": 187,
     "metadata": {},
     "output_type": "execute_result"
    }
   ],
   "source": [
    "# Scratch Cell\n",
    "\n",
    "def to(s, base):\n",
    "    assert(2 <= base <= 10)\n",
    "    return int(s, base)\n",
    "\n",
    "to(\"101\",2)"
   ]
  },
  {
   "cell_type": "markdown",
   "metadata": {},
   "source": [
    "# 4\n",
    "### 5 points\n",
    "### Context\n",
    "Recall the hexadecimal base system, or base-16. There are not enough Arabic numerals to support base-16, so the first few letters of the alphabet are used instead of numbers for higher values:\n",
    "   \n",
    "    A : 10\n",
    "    B : 11\n",
    "    C : 12\n",
    "    D : 13\n",
    "    E : 14\n",
    "    F : 15\n",
    "    \n",
    "Conversion to and from the hexadecimal system relies on the same principle and process as lower bases. For instance: converting the hexadecimal number \"1A9\" to decimal:\n",
    "\n",
    "    # From hexadecimal:\n",
    "    # 1A9 == (1 * 16**2) + (A * 16**1) + (9 * 16**0) == 425\n",
    "    # 1A9 == (1 * 16**2) + (10 * 16**1) + (9 * 16**0) == 425\n",
    "    \n",
    "### Required\n",
    "Write a function that takes a single argument, a number in hexadecimal (string). The function should **return** the number in **decimal** (string). You only need to consider decimal to hexadecimal, not the other way around.\n",
    "\n",
    "e.g. \n",
    "\n",
    "    dec_to_hex_convert(\"FF\") -> \"255\"\n",
    "    \n",
    "### Constraints\n",
    "1. Do not use the int(x, 16) function. You may still use int() to convert strings to integers.\n",
    "2. For simplicity, input integer strings will always represent positive integers."
   ]
  },
  {
   "cell_type": "code",
   "execution_count": 184,
   "metadata": {},
   "outputs": [
    {
     "name": "stdout",
     "output_type": "stream",
     "text": [
      "{1: 0, 2: 1, 3: 2, 4: 3, 5: 4, 6: 5, 7: 6, 8: 7, 9: 8, 10: 9, 11: 'A', 12: 'B', 13: 'C', 14: 'D', 15: 'E', 16: 'F'}\n",
      "{0: 1, 1: 2, 2: 3, 3: 4, 4: 5, 5: 6, 6: 7, 7: 8, 8: 9, 9: 10, 'A': 11, 'B': 12, 'C': 13, 'D': 14, 'E': 15, 'F': 16}\n"
     ]
    }
   ],
   "source": [
    "# Scratch Cell for ideation\n",
    "\n",
    "to_hexa_dict = {\n",
    "                1:0,\n",
    "                2:1,\n",
    "                3:2,\n",
    "                4:3,\n",
    "                5:4,\n",
    "                6:5,\n",
    "                7:6,\n",
    "                8:7, \n",
    "                9:8,\n",
    "                10:9,\n",
    "                11:\"A\",\n",
    "                12:\"B\",\n",
    "                13:\"C\",\n",
    "                14:\"D\",\n",
    "                15:\"E\",\n",
    "                16:\"F\"}\n",
    "\n",
    "print(to_hexa_dict)\n",
    "\n",
    "to_deca_dict = {0:1,\n",
    "                1:2,\n",
    "                2:3,\n",
    "                3:4,\n",
    "                4:5,\n",
    "                5:6,\n",
    "                6:7,\n",
    "                7:8, \n",
    "                8:9,\n",
    "                9:10,\n",
    "                \"A\":11,\n",
    "                \"B\":12,\n",
    "                \"C\":13,\n",
    "                \"D\":14,\n",
    "                \"E\":15,\n",
    "                \"F\":16}\n",
    "\n",
    "print(to_deca_dict)"
   ]
  },
  {
   "cell_type": "code",
   "execution_count": 186,
   "metadata": {},
   "outputs": [
    {
     "data": {
      "text/plain": [
       "'255'"
      ]
     },
     "execution_count": 186,
     "metadata": {},
     "output_type": "execute_result"
    }
   ],
   "source": [
    "def HexaDigit(value):\n",
    "    values = [\"0\",\"1\",\"2\",\"3\",\"4\",\"5\",\"6\",\"7\",\"8\",\"9\",\"A\",\"B\",\"C\",\"D\",\"E\",\"F\"] # list containing all the hexidecimal values\n",
    "    for x in range(0,len(values)): # finds the equivalent of the hexidecimal with the use of length\n",
    "        if value == values[x]:\n",
    "            return x\n",
    "    \n",
    "def dec_to_hex_convert(hexNum):\n",
    "    dec_num = 0\n",
    "    power = 0\n",
    "    for value in range(len(hexNum), 0, -1): # begins with the last digit going to the left.\n",
    "        hexDec = 16**power*HexaDigit(hexNum[value - 1])#loops until all hexadecimals have been calculated, evaluated and converted.\n",
    "        dec_num += hexDec\n",
    "        power += 1\n",
    "    return str(dec_num)\n",
    "\n",
    "dec_to_hex_convert(\"FF\")\n",
    "        "
   ]
  }
 ],
 "metadata": {
  "kernelspec": {
   "display_name": "Python 3",
   "language": "python",
   "name": "python3"
  },
  "language_info": {
   "codemirror_mode": {
    "name": "ipython",
    "version": 3
   },
   "file_extension": ".py",
   "mimetype": "text/x-python",
   "name": "python",
   "nbconvert_exporter": "python",
   "pygments_lexer": "ipython3",
   "version": "3.7.3"
  }
 },
 "nbformat": 4,
 "nbformat_minor": 2
}
